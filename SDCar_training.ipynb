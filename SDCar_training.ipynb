{
  "nbformat": 4,
  "nbformat_minor": 0,
  "metadata": {
    "colab": {
      "provenance": [],
      "collapsed_sections": [],
      "authorship_tag": "ABX9TyOPM9rRuz5wDnfYZAP3Ap0c",
      "include_colab_link": true
    },
    "kernelspec": {
      "name": "python3",
      "display_name": "Python 3"
    },
    "language_info": {
      "name": "python"
    }
  },
  "cells": [
    {
      "cell_type": "markdown",
      "metadata": {
        "id": "view-in-github",
        "colab_type": "text"
      },
      "source": [
        "<a href=\"https://colab.research.google.com/github/AntonioCastilho/SDCar/blob/main/SDCar_training.ipynb\" target=\"_parent\"><img src=\"https://colab.research.google.com/assets/colab-badge.svg\" alt=\"Open In Colab\"/></a>"
      ]
    },
    {
      "cell_type": "code",
      "execution_count": 97,
      "metadata": {
        "colab": {
          "base_uri": "https://localhost:8080/"
        },
        "id": "s_zi3ZjHQ88M",
        "outputId": "fc10d81f-debb-479c-ffb8-1b7a0afd772a"
      },
      "outputs": [
        {
          "output_type": "stream",
          "name": "stdout",
          "text": [
            "Cloning into 'SDCE'...\n",
            "remote: Enumerating objects: 12163, done.\u001b[K\n",
            "remote: Total 12163 (delta 0), reused 0 (delta 0), pack-reused 12163\u001b[K\n",
            "Receiving objects: 100% (12163/12163), 156.98 MiB | 35.36 MiB/s, done.\n",
            "Checking out files: 100% (12160/12160), done.\n"
          ]
        }
      ],
      "source": [
        "!git clone https://github.com/AbhiLegend/SDCE"
      ]
    },
    {
      "cell_type": "code",
      "source": [
        "!pip3 install imgaug\n",
        "import os\n",
        "import numpy as np\n",
        "import matplotlib.pyplot as plt\n",
        "import matplotlib.image as mpimg\n",
        "import keras\n",
        "from keras.models import Sequential\n",
        "from tensorflow.keras.optimizers import Adam\n",
        "from keras.layers import Convolution2D, MaxPooling2D, Dropout, Flatten, Dense\n",
        "from sklearn.utils import shuffle\n",
        "from sklearn.model_selection import train_test_split\n",
        "from imgaug import augmenters as iaa\n",
        "import cv2\n",
        "import pandas as pd\n",
        "import ntpath\n",
        "import random"
      ],
      "metadata": {
        "colab": {
          "base_uri": "https://localhost:8080/"
        },
        "id": "E3XJeQYRUQXx",
        "outputId": "4a6c04c3-8afc-4176-a13c-4f9de2634779"
      },
      "execution_count": 126,
      "outputs": [
        {
          "output_type": "stream",
          "name": "stdout",
          "text": [
            "Looking in indexes: https://pypi.org/simple, https://us-python.pkg.dev/colab-wheels/public/simple/\n",
            "Requirement already satisfied: imgaug in /usr/local/lib/python3.7/dist-packages (0.4.0)\n",
            "Requirement already satisfied: scipy in /usr/local/lib/python3.7/dist-packages (from imgaug) (1.7.3)\n",
            "Requirement already satisfied: Pillow in /usr/local/lib/python3.7/dist-packages (from imgaug) (7.1.2)\n",
            "Requirement already satisfied: imageio in /usr/local/lib/python3.7/dist-packages (from imgaug) (2.9.0)\n",
            "Requirement already satisfied: numpy>=1.15 in /usr/local/lib/python3.7/dist-packages (from imgaug) (1.21.6)\n",
            "Requirement already satisfied: Shapely in /usr/local/lib/python3.7/dist-packages (from imgaug) (1.8.4)\n",
            "Requirement already satisfied: matplotlib in /usr/local/lib/python3.7/dist-packages (from imgaug) (3.2.2)\n",
            "Requirement already satisfied: opencv-python in /usr/local/lib/python3.7/dist-packages (from imgaug) (4.6.0.66)\n",
            "Requirement already satisfied: six in /usr/local/lib/python3.7/dist-packages (from imgaug) (1.15.0)\n",
            "Requirement already satisfied: scikit-image>=0.14.2 in /usr/local/lib/python3.7/dist-packages (from imgaug) (0.18.3)\n",
            "Requirement already satisfied: networkx>=2.0 in /usr/local/lib/python3.7/dist-packages (from scikit-image>=0.14.2->imgaug) (2.6.3)\n",
            "Requirement already satisfied: tifffile>=2019.7.26 in /usr/local/lib/python3.7/dist-packages (from scikit-image>=0.14.2->imgaug) (2021.11.2)\n",
            "Requirement already satisfied: PyWavelets>=1.1.1 in /usr/local/lib/python3.7/dist-packages (from scikit-image>=0.14.2->imgaug) (1.3.0)\n",
            "Requirement already satisfied: cycler>=0.10 in /usr/local/lib/python3.7/dist-packages (from matplotlib->imgaug) (0.11.0)\n",
            "Requirement already satisfied: pyparsing!=2.0.4,!=2.1.2,!=2.1.6,>=2.0.1 in /usr/local/lib/python3.7/dist-packages (from matplotlib->imgaug) (3.0.9)\n",
            "Requirement already satisfied: kiwisolver>=1.0.1 in /usr/local/lib/python3.7/dist-packages (from matplotlib->imgaug) (1.4.4)\n",
            "Requirement already satisfied: python-dateutil>=2.1 in /usr/local/lib/python3.7/dist-packages (from matplotlib->imgaug) (2.8.2)\n",
            "Requirement already satisfied: typing-extensions in /usr/local/lib/python3.7/dist-packages (from kiwisolver>=1.0.1->matplotlib->imgaug) (4.1.1)\n"
          ]
        }
      ]
    },
    {
      "cell_type": "code",
      "source": [
        "datadir = 'SDCE'\n",
        "columns = ['center', 'left', 'right', 'steering', 'throttle', 'reverse', 'speed']\n",
        "data = pd.read_csv(os.path.join(datadir, 'driving_log.csv'), names = columns)\n",
        "pd.set_option('display.max_colwidth', -1)\n",
        "data.head()"
      ],
      "metadata": {
        "colab": {
          "base_uri": "https://localhost:8080/",
          "height": 305
        },
        "id": "cJiiYIFSSGfm",
        "outputId": "65d99c21-74ef-44f3-bf7e-13eb758d9d79"
      },
      "execution_count": 127,
      "outputs": [
        {
          "output_type": "stream",
          "name": "stderr",
          "text": [
            "/usr/local/lib/python3.7/dist-packages/ipykernel_launcher.py:4: FutureWarning: Passing a negative integer is deprecated in version 1.0 and will not be supported in future version. Instead, use None to not limit the column width.\n",
            "  after removing the cwd from sys.path.\n"
          ]
        },
        {
          "output_type": "execute_result",
          "data": {
            "text/plain": [
              "                                                                   center  \\\n",
              "0  C:\\Users\\Amer\\Desktop\\new_track\\IMG\\center_2018_07_16_17_11_43_382.jpg   \n",
              "1  C:\\Users\\Amer\\Desktop\\new_track\\IMG\\center_2018_07_16_17_11_43_670.jpg   \n",
              "2  C:\\Users\\Amer\\Desktop\\new_track\\IMG\\center_2018_07_16_17_11_43_724.jpg   \n",
              "3  C:\\Users\\Amer\\Desktop\\new_track\\IMG\\center_2018_07_16_17_11_43_792.jpg   \n",
              "4  C:\\Users\\Amer\\Desktop\\new_track\\IMG\\center_2018_07_16_17_11_43_860.jpg   \n",
              "\n",
              "                                                                   left  \\\n",
              "0  C:\\Users\\Amer\\Desktop\\new_track\\IMG\\left_2018_07_16_17_11_43_382.jpg   \n",
              "1  C:\\Users\\Amer\\Desktop\\new_track\\IMG\\left_2018_07_16_17_11_43_670.jpg   \n",
              "2  C:\\Users\\Amer\\Desktop\\new_track\\IMG\\left_2018_07_16_17_11_43_724.jpg   \n",
              "3  C:\\Users\\Amer\\Desktop\\new_track\\IMG\\left_2018_07_16_17_11_43_792.jpg   \n",
              "4  C:\\Users\\Amer\\Desktop\\new_track\\IMG\\left_2018_07_16_17_11_43_860.jpg   \n",
              "\n",
              "                                                                   right  \\\n",
              "0  C:\\Users\\Amer\\Desktop\\new_track\\IMG\\right_2018_07_16_17_11_43_382.jpg   \n",
              "1  C:\\Users\\Amer\\Desktop\\new_track\\IMG\\right_2018_07_16_17_11_43_670.jpg   \n",
              "2  C:\\Users\\Amer\\Desktop\\new_track\\IMG\\right_2018_07_16_17_11_43_724.jpg   \n",
              "3  C:\\Users\\Amer\\Desktop\\new_track\\IMG\\right_2018_07_16_17_11_43_792.jpg   \n",
              "4  C:\\Users\\Amer\\Desktop\\new_track\\IMG\\right_2018_07_16_17_11_43_860.jpg   \n",
              "\n",
              "   steering  throttle  reverse     speed  \n",
              "0  0.0       0.0       0.0      0.649786  \n",
              "1  0.0       0.0       0.0      0.627942  \n",
              "2  0.0       0.0       0.0      0.622910  \n",
              "3  0.0       0.0       0.0      0.619162  \n",
              "4  0.0       0.0       0.0      0.615438  "
            ],
            "text/html": [
              "\n",
              "  <div id=\"df-35966b41-0a2e-4d84-8a3b-f335ddf7fed8\">\n",
              "    <div class=\"colab-df-container\">\n",
              "      <div>\n",
              "<style scoped>\n",
              "    .dataframe tbody tr th:only-of-type {\n",
              "        vertical-align: middle;\n",
              "    }\n",
              "\n",
              "    .dataframe tbody tr th {\n",
              "        vertical-align: top;\n",
              "    }\n",
              "\n",
              "    .dataframe thead th {\n",
              "        text-align: right;\n",
              "    }\n",
              "</style>\n",
              "<table border=\"1\" class=\"dataframe\">\n",
              "  <thead>\n",
              "    <tr style=\"text-align: right;\">\n",
              "      <th></th>\n",
              "      <th>center</th>\n",
              "      <th>left</th>\n",
              "      <th>right</th>\n",
              "      <th>steering</th>\n",
              "      <th>throttle</th>\n",
              "      <th>reverse</th>\n",
              "      <th>speed</th>\n",
              "    </tr>\n",
              "  </thead>\n",
              "  <tbody>\n",
              "    <tr>\n",
              "      <th>0</th>\n",
              "      <td>C:\\Users\\Amer\\Desktop\\new_track\\IMG\\center_2018_07_16_17_11_43_382.jpg</td>\n",
              "      <td>C:\\Users\\Amer\\Desktop\\new_track\\IMG\\left_2018_07_16_17_11_43_382.jpg</td>\n",
              "      <td>C:\\Users\\Amer\\Desktop\\new_track\\IMG\\right_2018_07_16_17_11_43_382.jpg</td>\n",
              "      <td>0.0</td>\n",
              "      <td>0.0</td>\n",
              "      <td>0.0</td>\n",
              "      <td>0.649786</td>\n",
              "    </tr>\n",
              "    <tr>\n",
              "      <th>1</th>\n",
              "      <td>C:\\Users\\Amer\\Desktop\\new_track\\IMG\\center_2018_07_16_17_11_43_670.jpg</td>\n",
              "      <td>C:\\Users\\Amer\\Desktop\\new_track\\IMG\\left_2018_07_16_17_11_43_670.jpg</td>\n",
              "      <td>C:\\Users\\Amer\\Desktop\\new_track\\IMG\\right_2018_07_16_17_11_43_670.jpg</td>\n",
              "      <td>0.0</td>\n",
              "      <td>0.0</td>\n",
              "      <td>0.0</td>\n",
              "      <td>0.627942</td>\n",
              "    </tr>\n",
              "    <tr>\n",
              "      <th>2</th>\n",
              "      <td>C:\\Users\\Amer\\Desktop\\new_track\\IMG\\center_2018_07_16_17_11_43_724.jpg</td>\n",
              "      <td>C:\\Users\\Amer\\Desktop\\new_track\\IMG\\left_2018_07_16_17_11_43_724.jpg</td>\n",
              "      <td>C:\\Users\\Amer\\Desktop\\new_track\\IMG\\right_2018_07_16_17_11_43_724.jpg</td>\n",
              "      <td>0.0</td>\n",
              "      <td>0.0</td>\n",
              "      <td>0.0</td>\n",
              "      <td>0.622910</td>\n",
              "    </tr>\n",
              "    <tr>\n",
              "      <th>3</th>\n",
              "      <td>C:\\Users\\Amer\\Desktop\\new_track\\IMG\\center_2018_07_16_17_11_43_792.jpg</td>\n",
              "      <td>C:\\Users\\Amer\\Desktop\\new_track\\IMG\\left_2018_07_16_17_11_43_792.jpg</td>\n",
              "      <td>C:\\Users\\Amer\\Desktop\\new_track\\IMG\\right_2018_07_16_17_11_43_792.jpg</td>\n",
              "      <td>0.0</td>\n",
              "      <td>0.0</td>\n",
              "      <td>0.0</td>\n",
              "      <td>0.619162</td>\n",
              "    </tr>\n",
              "    <tr>\n",
              "      <th>4</th>\n",
              "      <td>C:\\Users\\Amer\\Desktop\\new_track\\IMG\\center_2018_07_16_17_11_43_860.jpg</td>\n",
              "      <td>C:\\Users\\Amer\\Desktop\\new_track\\IMG\\left_2018_07_16_17_11_43_860.jpg</td>\n",
              "      <td>C:\\Users\\Amer\\Desktop\\new_track\\IMG\\right_2018_07_16_17_11_43_860.jpg</td>\n",
              "      <td>0.0</td>\n",
              "      <td>0.0</td>\n",
              "      <td>0.0</td>\n",
              "      <td>0.615438</td>\n",
              "    </tr>\n",
              "  </tbody>\n",
              "</table>\n",
              "</div>\n",
              "      <button class=\"colab-df-convert\" onclick=\"convertToInteractive('df-35966b41-0a2e-4d84-8a3b-f335ddf7fed8')\"\n",
              "              title=\"Convert this dataframe to an interactive table.\"\n",
              "              style=\"display:none;\">\n",
              "        \n",
              "  <svg xmlns=\"http://www.w3.org/2000/svg\" height=\"24px\"viewBox=\"0 0 24 24\"\n",
              "       width=\"24px\">\n",
              "    <path d=\"M0 0h24v24H0V0z\" fill=\"none\"/>\n",
              "    <path d=\"M18.56 5.44l.94 2.06.94-2.06 2.06-.94-2.06-.94-.94-2.06-.94 2.06-2.06.94zm-11 1L8.5 8.5l.94-2.06 2.06-.94-2.06-.94L8.5 2.5l-.94 2.06-2.06.94zm10 10l.94 2.06.94-2.06 2.06-.94-2.06-.94-.94-2.06-.94 2.06-2.06.94z\"/><path d=\"M17.41 7.96l-1.37-1.37c-.4-.4-.92-.59-1.43-.59-.52 0-1.04.2-1.43.59L10.3 9.45l-7.72 7.72c-.78.78-.78 2.05 0 2.83L4 21.41c.39.39.9.59 1.41.59.51 0 1.02-.2 1.41-.59l7.78-7.78 2.81-2.81c.8-.78.8-2.07 0-2.86zM5.41 20L4 18.59l7.72-7.72 1.47 1.35L5.41 20z\"/>\n",
              "  </svg>\n",
              "      </button>\n",
              "      \n",
              "  <style>\n",
              "    .colab-df-container {\n",
              "      display:flex;\n",
              "      flex-wrap:wrap;\n",
              "      gap: 12px;\n",
              "    }\n",
              "\n",
              "    .colab-df-convert {\n",
              "      background-color: #E8F0FE;\n",
              "      border: none;\n",
              "      border-radius: 50%;\n",
              "      cursor: pointer;\n",
              "      display: none;\n",
              "      fill: #1967D2;\n",
              "      height: 32px;\n",
              "      padding: 0 0 0 0;\n",
              "      width: 32px;\n",
              "    }\n",
              "\n",
              "    .colab-df-convert:hover {\n",
              "      background-color: #E2EBFA;\n",
              "      box-shadow: 0px 1px 2px rgba(60, 64, 67, 0.3), 0px 1px 3px 1px rgba(60, 64, 67, 0.15);\n",
              "      fill: #174EA6;\n",
              "    }\n",
              "\n",
              "    [theme=dark] .colab-df-convert {\n",
              "      background-color: #3B4455;\n",
              "      fill: #D2E3FC;\n",
              "    }\n",
              "\n",
              "    [theme=dark] .colab-df-convert:hover {\n",
              "      background-color: #434B5C;\n",
              "      box-shadow: 0px 1px 3px 1px rgba(0, 0, 0, 0.15);\n",
              "      filter: drop-shadow(0px 1px 2px rgba(0, 0, 0, 0.3));\n",
              "      fill: #FFFFFF;\n",
              "    }\n",
              "  </style>\n",
              "\n",
              "      <script>\n",
              "        const buttonEl =\n",
              "          document.querySelector('#df-35966b41-0a2e-4d84-8a3b-f335ddf7fed8 button.colab-df-convert');\n",
              "        buttonEl.style.display =\n",
              "          google.colab.kernel.accessAllowed ? 'block' : 'none';\n",
              "\n",
              "        async function convertToInteractive(key) {\n",
              "          const element = document.querySelector('#df-35966b41-0a2e-4d84-8a3b-f335ddf7fed8');\n",
              "          const dataTable =\n",
              "            await google.colab.kernel.invokeFunction('convertToInteractive',\n",
              "                                                     [key], {});\n",
              "          if (!dataTable) return;\n",
              "\n",
              "          const docLinkHtml = 'Like what you see? Visit the ' +\n",
              "            '<a target=\"_blank\" href=https://colab.research.google.com/notebooks/data_table.ipynb>data table notebook</a>'\n",
              "            + ' to learn more about interactive tables.';\n",
              "          element.innerHTML = '';\n",
              "          dataTable['output_type'] = 'display_data';\n",
              "          await google.colab.output.renderOutput(dataTable, element);\n",
              "          const docLink = document.createElement('div');\n",
              "          docLink.innerHTML = docLinkHtml;\n",
              "          element.appendChild(docLink);\n",
              "        }\n",
              "      </script>\n",
              "    </div>\n",
              "  </div>\n",
              "  "
            ]
          },
          "metadata": {},
          "execution_count": 127
        }
      ]
    },
    {
      "cell_type": "code",
      "source": [
        "def path_leaf(path):\n",
        "  head, tail = ntpath.split(path)\n",
        "  return tail\n",
        "  \n",
        "data['center'] = data['center'].apply(path_leaf)\n",
        "data['left'] = data['left'].apply(path_leaf)\n",
        "data['right'] = data['right'].apply(path_leaf)\n",
        "data.head()"
      ],
      "metadata": {
        "colab": {
          "base_uri": "https://localhost:8080/",
          "height": 270
        },
        "id": "xBTUQG8mUs3Q",
        "outputId": "8ee862bf-629c-4991-ed69-1a744475c508"
      },
      "execution_count": 128,
      "outputs": [
        {
          "output_type": "execute_result",
          "data": {
            "text/plain": [
              "                               center                              left  \\\n",
              "0  center_2018_07_16_17_11_43_382.jpg  left_2018_07_16_17_11_43_382.jpg   \n",
              "1  center_2018_07_16_17_11_43_670.jpg  left_2018_07_16_17_11_43_670.jpg   \n",
              "2  center_2018_07_16_17_11_43_724.jpg  left_2018_07_16_17_11_43_724.jpg   \n",
              "3  center_2018_07_16_17_11_43_792.jpg  left_2018_07_16_17_11_43_792.jpg   \n",
              "4  center_2018_07_16_17_11_43_860.jpg  left_2018_07_16_17_11_43_860.jpg   \n",
              "\n",
              "                               right  steering  throttle  reverse     speed  \n",
              "0  right_2018_07_16_17_11_43_382.jpg  0.0       0.0       0.0      0.649786  \n",
              "1  right_2018_07_16_17_11_43_670.jpg  0.0       0.0       0.0      0.627942  \n",
              "2  right_2018_07_16_17_11_43_724.jpg  0.0       0.0       0.0      0.622910  \n",
              "3  right_2018_07_16_17_11_43_792.jpg  0.0       0.0       0.0      0.619162  \n",
              "4  right_2018_07_16_17_11_43_860.jpg  0.0       0.0       0.0      0.615438  "
            ],
            "text/html": [
              "\n",
              "  <div id=\"df-6caf5e56-202a-413a-84de-47e96e4a2356\">\n",
              "    <div class=\"colab-df-container\">\n",
              "      <div>\n",
              "<style scoped>\n",
              "    .dataframe tbody tr th:only-of-type {\n",
              "        vertical-align: middle;\n",
              "    }\n",
              "\n",
              "    .dataframe tbody tr th {\n",
              "        vertical-align: top;\n",
              "    }\n",
              "\n",
              "    .dataframe thead th {\n",
              "        text-align: right;\n",
              "    }\n",
              "</style>\n",
              "<table border=\"1\" class=\"dataframe\">\n",
              "  <thead>\n",
              "    <tr style=\"text-align: right;\">\n",
              "      <th></th>\n",
              "      <th>center</th>\n",
              "      <th>left</th>\n",
              "      <th>right</th>\n",
              "      <th>steering</th>\n",
              "      <th>throttle</th>\n",
              "      <th>reverse</th>\n",
              "      <th>speed</th>\n",
              "    </tr>\n",
              "  </thead>\n",
              "  <tbody>\n",
              "    <tr>\n",
              "      <th>0</th>\n",
              "      <td>center_2018_07_16_17_11_43_382.jpg</td>\n",
              "      <td>left_2018_07_16_17_11_43_382.jpg</td>\n",
              "      <td>right_2018_07_16_17_11_43_382.jpg</td>\n",
              "      <td>0.0</td>\n",
              "      <td>0.0</td>\n",
              "      <td>0.0</td>\n",
              "      <td>0.649786</td>\n",
              "    </tr>\n",
              "    <tr>\n",
              "      <th>1</th>\n",
              "      <td>center_2018_07_16_17_11_43_670.jpg</td>\n",
              "      <td>left_2018_07_16_17_11_43_670.jpg</td>\n",
              "      <td>right_2018_07_16_17_11_43_670.jpg</td>\n",
              "      <td>0.0</td>\n",
              "      <td>0.0</td>\n",
              "      <td>0.0</td>\n",
              "      <td>0.627942</td>\n",
              "    </tr>\n",
              "    <tr>\n",
              "      <th>2</th>\n",
              "      <td>center_2018_07_16_17_11_43_724.jpg</td>\n",
              "      <td>left_2018_07_16_17_11_43_724.jpg</td>\n",
              "      <td>right_2018_07_16_17_11_43_724.jpg</td>\n",
              "      <td>0.0</td>\n",
              "      <td>0.0</td>\n",
              "      <td>0.0</td>\n",
              "      <td>0.622910</td>\n",
              "    </tr>\n",
              "    <tr>\n",
              "      <th>3</th>\n",
              "      <td>center_2018_07_16_17_11_43_792.jpg</td>\n",
              "      <td>left_2018_07_16_17_11_43_792.jpg</td>\n",
              "      <td>right_2018_07_16_17_11_43_792.jpg</td>\n",
              "      <td>0.0</td>\n",
              "      <td>0.0</td>\n",
              "      <td>0.0</td>\n",
              "      <td>0.619162</td>\n",
              "    </tr>\n",
              "    <tr>\n",
              "      <th>4</th>\n",
              "      <td>center_2018_07_16_17_11_43_860.jpg</td>\n",
              "      <td>left_2018_07_16_17_11_43_860.jpg</td>\n",
              "      <td>right_2018_07_16_17_11_43_860.jpg</td>\n",
              "      <td>0.0</td>\n",
              "      <td>0.0</td>\n",
              "      <td>0.0</td>\n",
              "      <td>0.615438</td>\n",
              "    </tr>\n",
              "  </tbody>\n",
              "</table>\n",
              "</div>\n",
              "      <button class=\"colab-df-convert\" onclick=\"convertToInteractive('df-6caf5e56-202a-413a-84de-47e96e4a2356')\"\n",
              "              title=\"Convert this dataframe to an interactive table.\"\n",
              "              style=\"display:none;\">\n",
              "        \n",
              "  <svg xmlns=\"http://www.w3.org/2000/svg\" height=\"24px\"viewBox=\"0 0 24 24\"\n",
              "       width=\"24px\">\n",
              "    <path d=\"M0 0h24v24H0V0z\" fill=\"none\"/>\n",
              "    <path d=\"M18.56 5.44l.94 2.06.94-2.06 2.06-.94-2.06-.94-.94-2.06-.94 2.06-2.06.94zm-11 1L8.5 8.5l.94-2.06 2.06-.94-2.06-.94L8.5 2.5l-.94 2.06-2.06.94zm10 10l.94 2.06.94-2.06 2.06-.94-2.06-.94-.94-2.06-.94 2.06-2.06.94z\"/><path d=\"M17.41 7.96l-1.37-1.37c-.4-.4-.92-.59-1.43-.59-.52 0-1.04.2-1.43.59L10.3 9.45l-7.72 7.72c-.78.78-.78 2.05 0 2.83L4 21.41c.39.39.9.59 1.41.59.51 0 1.02-.2 1.41-.59l7.78-7.78 2.81-2.81c.8-.78.8-2.07 0-2.86zM5.41 20L4 18.59l7.72-7.72 1.47 1.35L5.41 20z\"/>\n",
              "  </svg>\n",
              "      </button>\n",
              "      \n",
              "  <style>\n",
              "    .colab-df-container {\n",
              "      display:flex;\n",
              "      flex-wrap:wrap;\n",
              "      gap: 12px;\n",
              "    }\n",
              "\n",
              "    .colab-df-convert {\n",
              "      background-color: #E8F0FE;\n",
              "      border: none;\n",
              "      border-radius: 50%;\n",
              "      cursor: pointer;\n",
              "      display: none;\n",
              "      fill: #1967D2;\n",
              "      height: 32px;\n",
              "      padding: 0 0 0 0;\n",
              "      width: 32px;\n",
              "    }\n",
              "\n",
              "    .colab-df-convert:hover {\n",
              "      background-color: #E2EBFA;\n",
              "      box-shadow: 0px 1px 2px rgba(60, 64, 67, 0.3), 0px 1px 3px 1px rgba(60, 64, 67, 0.15);\n",
              "      fill: #174EA6;\n",
              "    }\n",
              "\n",
              "    [theme=dark] .colab-df-convert {\n",
              "      background-color: #3B4455;\n",
              "      fill: #D2E3FC;\n",
              "    }\n",
              "\n",
              "    [theme=dark] .colab-df-convert:hover {\n",
              "      background-color: #434B5C;\n",
              "      box-shadow: 0px 1px 3px 1px rgba(0, 0, 0, 0.15);\n",
              "      filter: drop-shadow(0px 1px 2px rgba(0, 0, 0, 0.3));\n",
              "      fill: #FFFFFF;\n",
              "    }\n",
              "  </style>\n",
              "\n",
              "      <script>\n",
              "        const buttonEl =\n",
              "          document.querySelector('#df-6caf5e56-202a-413a-84de-47e96e4a2356 button.colab-df-convert');\n",
              "        buttonEl.style.display =\n",
              "          google.colab.kernel.accessAllowed ? 'block' : 'none';\n",
              "\n",
              "        async function convertToInteractive(key) {\n",
              "          const element = document.querySelector('#df-6caf5e56-202a-413a-84de-47e96e4a2356');\n",
              "          const dataTable =\n",
              "            await google.colab.kernel.invokeFunction('convertToInteractive',\n",
              "                                                     [key], {});\n",
              "          if (!dataTable) return;\n",
              "\n",
              "          const docLinkHtml = 'Like what you see? Visit the ' +\n",
              "            '<a target=\"_blank\" href=https://colab.research.google.com/notebooks/data_table.ipynb>data table notebook</a>'\n",
              "            + ' to learn more about interactive tables.';\n",
              "          element.innerHTML = '';\n",
              "          dataTable['output_type'] = 'display_data';\n",
              "          await google.colab.output.renderOutput(dataTable, element);\n",
              "          const docLink = document.createElement('div');\n",
              "          docLink.innerHTML = docLinkHtml;\n",
              "          element.appendChild(docLink);\n",
              "        }\n",
              "      </script>\n",
              "    </div>\n",
              "  </div>\n",
              "  "
            ]
          },
          "metadata": {},
          "execution_count": 128
        }
      ]
    },
    {
      "cell_type": "code",
      "source": [
        "num_bins = 25\n",
        "samples_per_bin = 400\n",
        "hist, bins = np.histogram(data['steering'], num_bins)\n",
        "center = (bins[:-1]+ bins[1:]) * 0.5\n",
        "plt.bar(center, hist, width=0.05)\n",
        "plt.plot((np.min(data['steering']), np.max(data['steering'])), \\\n",
        "(samples_per_bin, samples_per_bin))"
      ],
      "metadata": {
        "colab": {
          "base_uri": "https://localhost:8080/",
          "height": 282
        },
        "id": "NLvQ_iGhU5Nc",
        "outputId": "79d77ad1-eaa7-40e9-dd3b-9b894ef7ec68"
      },
      "execution_count": 129,
      "outputs": [
        {
          "output_type": "execute_result",
          "data": {
            "text/plain": [
              "[<matplotlib.lines.Line2D at 0x7fc16d7ea290>]"
            ]
          },
          "metadata": {},
          "execution_count": 129
        },
        {
          "output_type": "display_data",
          "data": {
            "text/plain": [
              "<Figure size 432x288 with 1 Axes>"
            ],
            "image/png": "[encoded data removed]"
          },
          "metadata": {
            "needs_background": "light"
          }
        }
      ]
    },
    {
      "cell_type": "code",
      "source": [
        "print('total data:', len(data))\n",
        "remove_list = []\n",
        "for j in range(num_bins):\n",
        "  list_ = []\n",
        "  for i in range(len(data['steering'])):\n",
        "    if data['steering'][i] >= bins[j] and data['steering'][i] <= bins[j+1]:\n",
        "      list_.append(i)\n",
        "  list_ = shuffle(list_)\n",
        "  list_ = list_[samples_per_bin:]\n",
        "  remove_list.extend(list_)\n",
        " \n",
        "print('removed:', len(remove_list))\n",
        "data.drop(data.index[remove_list], inplace=True)\n",
        "print('remaining:', len(data))\n",
        " \n",
        "hist, _ = np.histogram(data['steering'], (num_bins))\n",
        "plt.bar(center, hist, width=0.05)\n",
        "plt.plot((np.min(data['steering']), np.max(data['steering'])), \\\n",
        "(samples_per_bin, samples_per_bin))"
      ],
      "metadata": {
        "colab": {
          "base_uri": "https://localhost:8080/",
          "height": 334
        },
        "id": "Eabv1m5lVw__",
        "outputId": "8a812aca-8683-4303-8cb5-2001ab5c5832"
      },
      "execution_count": 130,
      "outputs": [
        {
          "output_type": "stream",
          "name": "stdout",
          "text": [
            "total data: 4053\n",
            "removed: 2590\n",
            "remaining: 1463\n"
          ]
        },
        {
          "output_type": "execute_result",
          "data": {
            "text/plain": [
              "[<matplotlib.lines.Line2D at 0x7fc16d6d53d0>]"
            ]
          },
          "metadata": {},
          "execution_count": 130
        },
        {
          "output_type": "display_data",
          "data": {
            "text/plain": [
              "<Figure size 432x288 with 1 Axes>"
            ],
            "image/png": "[encoded data removed]"
          },
          "metadata": {
            "needs_background": "light"
          }
        }
      ]
    },
    {
      "cell_type": "code",
      "source": [
        "print(data.iloc[1])\n",
        "def load_img_steering(datadir, df):\n",
        "  image_path = []\n",
        "  steering = []\n",
        "  for i in range(len(data)):\n",
        "    indexed_data = data.iloc[i]\n",
        "    center, left, right = indexed_data[0], indexed_data[1], indexed_data[2]\n",
        "    image_path.append(os.path.join(datadir, center.strip()))\n",
        "    steering.append(float(indexed_data[3]))\n",
        "    # left image append\n",
        "    image_path.append(os.path.join(datadir,left.strip()))\n",
        "    steering.append(float(indexed_data[3])+0.15)\n",
        "    # right image append\n",
        "    image_path.append(os.path.join(datadir,right.strip()))\n",
        "    steering.append(float(indexed_data[3])-0.15)\n",
        "  image_paths = np.asarray(image_path)\n",
        "  steerings = np.asarray(steering)\n",
        "  return image_paths, steerings\n",
        " \n",
        "image_paths, steerings = load_img_steering(datadir + '/IMG', data)"
      ],
      "metadata": {
        "colab": {
          "base_uri": "https://localhost:8080/"
        },
        "id": "pbUu4zeMV8SR",
        "outputId": "1487598c-5f41-45c7-8c1a-24e295e4abfa"
      },
      "execution_count": 131,
      "outputs": [
        {
          "output_type": "stream",
          "name": "stdout",
          "text": [
            "center      center_2018_07_16_17_11_43_670.jpg\n",
            "left        left_2018_07_16_17_11_43_670.jpg  \n",
            "right       right_2018_07_16_17_11_43_670.jpg \n",
            "steering    0.0                               \n",
            "throttle    0.0                               \n",
            "reverse     0.0                               \n",
            "speed       0.627942                          \n",
            "Name: 1, dtype: object\n"
          ]
        }
      ]
    },
    {
      "cell_type": "code",
      "source": [
        "X_train, X_valid, y_train, y_valid = train_test_split(image_paths, steerings, \\\n",
        "test_size=0.2, random_state=6)\n",
        "print('Training Samples: {}\\nValid Samples: {}'.format(len(X_train), len(X_valid)))"
      ],
      "metadata": {
        "colab": {
          "base_uri": "https://localhost:8080/"
        },
        "id": "kX0qSlI3WFeb",
        "outputId": "b928e0fc-f706-4ea6-8671-21fa58614beb"
      },
      "execution_count": 132,
      "outputs": [
        {
          "output_type": "stream",
          "name": "stdout",
          "text": [
            "Training Samples: 3511\n",
            "Valid Samples: 878\n"
          ]
        }
      ]
    },
    {
      "cell_type": "code",
      "source": [
        "fig, axes = plt.subplots(1, 2, figsize=(12, 4))\n",
        "axes[0].hist(y_train, bins=num_bins, width=0.05, color='blue')\n",
        "axes[0].set_title('Training set')\n",
        "axes[1].hist(y_valid, bins=num_bins, width=0.05, color='red')\n",
        "axes[1].set_title('Validation set')"
      ],
      "metadata": {
        "colab": {
          "base_uri": "https://localhost:8080/",
          "height": 298
        },
        "id": "9hpV8aTOWOck",
        "outputId": "d152bca4-1b78-4b19-d336-3305cfd0bd35"
      },
      "execution_count": 133,
      "outputs": [
        {
          "output_type": "execute_result",
          "data": {
            "text/plain": [
              "Text(0.5, 1.0, 'Validation set')"
            ]
          },
          "metadata": {},
          "execution_count": 133
        },
        {
          "output_type": "display_data",
          "data": {
            "text/plain": [
              "<Figure size 864x288 with 2 Axes>"
            ],
            "image/png": "[encoded data removed]"
          },
          "metadata": {
            "needs_background": "light"
          }
        }
      ]
    },
    {
      "cell_type": "code",
      "source": [
        "def zoom(image):\n",
        "  zoom = iaa.Affine(scale=(1, 1.3))\n",
        "  image = zoom.augment_image(image)\n",
        "  return image"
      ],
      "metadata": {
        "id": "L0ELJQvYjiJB"
      },
      "execution_count": 134,
      "outputs": []
    },
    {
      "cell_type": "code",
      "source": [
        "def pan(image):\n",
        "  pan = iaa.Affine(translate_percent= {\"x\" : (-0.1, 0.1), \"y\": (-0.1, 0.1)})\n",
        "  image = pan.augment_image(image)\n",
        "  return image"
      ],
      "metadata": {
        "id": "duy1zBN4j115"
      },
      "execution_count": 135,
      "outputs": []
    },
    {
      "cell_type": "code",
      "source": [
        "def img_random_brightness(image):\n",
        "    brightness = iaa.Multiply((0.2, 1.2))\n",
        "    image = brightness.augment_image(image)\n",
        "    return image"
      ],
      "metadata": {
        "id": "QdDjjAvPj8-F"
      },
      "execution_count": 136,
      "outputs": []
    },
    {
      "cell_type": "code",
      "source": [
        "def img_random_flip(image, steering_angle):\n",
        "    image = cv2.flip(image,1)\n",
        "    steering_angle = -steering_angle\n",
        "    return image, steering_angle"
      ],
      "metadata": {
        "id": "iOpbuCZOj-hI"
      },
      "execution_count": 137,
      "outputs": []
    },
    {
      "cell_type": "code",
      "source": [
        "def random_augment(image, steering_angle):\n",
        "    image = mpimg.imread(image)\n",
        "    if np.random.rand() < 0.5:\n",
        "      image = pan(image)\n",
        "    if np.random.rand() < 0.5:\n",
        "      image = zoom(image)\n",
        "    if np.random.rand() < 0.5:\n",
        "      image = img_random_brightness(image)\n",
        "    if np.random.rand() < 0.5:\n",
        "      image, steering_angle = img_random_flip(image, steering_angle)\n",
        "    \n",
        "    return image, steering_angle"
      ],
      "metadata": {
        "id": "torNwZ-ikKYr"
      },
      "execution_count": 140,
      "outputs": []
    },
    {
      "cell_type": "code",
      "source": [
        "def img_preprocess(img):\n",
        "    img = img[60:135,:,:]\n",
        "    img = cv2.cvtColor(img, cv2.COLOR_RGB2YUV)\n",
        "    img = cv2.GaussianBlur(img,  (3, 3), 0)\n",
        "    img = cv2.resize(img, (200, 66))\n",
        "    img = img/255\n",
        "    return img"
      ],
      "metadata": {
        "id": "yYSZ-PfBkRRo"
      },
      "execution_count": 141,
      "outputs": []
    },
    {
      "cell_type": "code",
      "source": [
        "image = image_paths[random.randint(0, len(image_paths) - 1)]\n",
        "original_image = mpimg.imread(image)\n",
        "zoomed_image = zoom(original_image)\n",
        " \n",
        "fig, axs = plt.subplots(1, 2, figsize=(15, 10))\n",
        "fig.tight_layout()\n",
        " \n",
        "axs[0].imshow(original_image)\n",
        "axs[0].set_title('Original Image')\n",
        " \n",
        "axs[1].imshow(zoomed_image)\n",
        "axs[1].set_title('Zoomed Image')\n",
        "\n",
        "image = image_paths[random.randint(0, len(image_paths) - 1)]\n",
        "original_image = mpimg.imread(image)\n",
        "panned_image = pan(original_image)\n",
        " \n",
        "fig, axs = plt.subplots(1, 2, figsize=(15, 10))\n",
        "fig.tight_layout()\n",
        " \n",
        "axs[0].imshow(original_image)\n",
        "axs[0].set_title('Original Image')\n",
        " \n",
        "axs[1].imshow(panned_image)\n",
        "axs[1].set_title('Panned Image')\n",
        "\n",
        "image = image_paths[random.randint(0, len(image_paths) - 1)]\n",
        "original_image = mpimg.imread(image)\n",
        "brightness_altered_image = img_random_brightness(original_image)\n",
        " \n",
        "fig, axs = plt.subplots(1, 2, figsize=(15, 10))\n",
        "fig.tight_layout()\n",
        " \n",
        "axs[0].imshow(original_image)\n",
        "axs[0].set_title('Original Image')\n",
        " \n",
        "axs[1].imshow(brightness_altered_image)\n",
        "axs[1].set_title('Brightness altered image ')\n",
        "\n",
        "random_index = random.randint(0, len(image_paths) - 1)\n",
        "image = image_paths[random_index]\n",
        "steering_angle = steerings[random_index]\n",
        " \n",
        "original_image = mpimg.imread(image)\n",
        "flipped_image, flipped_steering_angle = img_random_flip(original_image, steering_angle)\n",
        " \n",
        "fig, axs = plt.subplots(1, 2, figsize=(15, 10))\n",
        "fig.tight_layout()\n",
        " \n",
        "axs[0].imshow(original_image)\n",
        "axs[0].set_title('Original Image - ' + 'Steering Angle:' + str(steering_angle))\n",
        " \n",
        "axs[1].imshow(flipped_image)\n",
        "axs[1].set_title('Flipped Image - ' + 'Steering Angle:' + str(flipped_steering_angle))\n",
        "\n",
        "ncol = 2\n",
        "nrow = 10\n",
        " \n",
        "fig, axs = plt.subplots(nrow, ncol, figsize=(15, 50))\n",
        "fig.tight_layout()\n",
        " \n",
        "for i in range(10):\n",
        "  randnum = random.randint(0, len(image_paths) - 1)\n",
        "  random_image = image_paths[randnum]\n",
        "  random_steering = steerings[randnum]\n",
        "    \n",
        "  original_image = mpimg.imread(random_image)\n",
        "  augmented_image, steering = random_augment(random_image, random_steering)\n",
        "    \n",
        "  axs[i][0].imshow(original_image)\n",
        "  axs[i][0].set_title(\"Original Image\")\n",
        "  \n",
        "  axs[i][1].imshow(augmented_image)\n",
        "  axs[i][1].set_title(\"Augmented Image\")\n",
        " \n",
        "image = image_paths[100]\n",
        "original_image = mpimg.imread(image)\n",
        "preprocessed_image = img_preprocess(original_image)\n",
        " \n",
        "fig, axs = plt.subplots(1, 2, figsize=(15, 10))\n",
        "fig.tight_layout()\n",
        "axs[0].imshow(original_image)\n",
        "axs[0].set_title('Original Image')\n",
        "axs[1].imshow(preprocessed_image)\n",
        "axs[1].set_title('Preprocessed Image')\n",
        "\n"
      ],
      "metadata": {
        "id": "SsOXAyc-WYtA"
      },
      "execution_count": null,
      "outputs": []
    },
    {
      "cell_type": "code",
      "source": [
        "def batch_generator(image_paths, steering_ang, batch_size, istraining):\n",
        "  \n",
        "  while True:\n",
        "    batch_img = []\n",
        "    batch_steering = []\n",
        "    \n",
        "    for i in range(batch_size):\n",
        "      random_index = random.randint(0, len(image_paths) - 1)\n",
        "      \n",
        "      if istraining:\n",
        "        im, steering = random_augment(image_paths[random_index], steering_ang[random_index])\n",
        "     \n",
        "      else:\n",
        "        im = mpimg.imread(image_paths[random_index])\n",
        "        steering = steering_ang[random_index]\n",
        "      \n",
        "      im = img_preprocess(im)\n",
        "      batch_img.append(im)\n",
        "      batch_steering.append(steering)\n",
        "    yield (np.asarray(batch_img), np.asarray(batch_steering))"
      ],
      "metadata": {
        "id": "jDqfYzwIkXz4"
      },
      "execution_count": 143,
      "outputs": []
    },
    {
      "cell_type": "code",
      "source": [
        "def nvidia_model():\n",
        "  model = Sequential()\n",
        "  model.add(Convolution2D(24,(5,5), strides=(2, 2), input_shape=(66, 200, 3), activation='elu'))\n",
        "  model.add(Convolution2D(36, (5,5), strides=(2, 2), activation='elu'))\n",
        "  model.add(Convolution2D(48, (5,5), strides=(2, 2), activation='elu'))\n",
        "  model.add(Convolution2D(64, (3,3), activation='elu'))\n",
        "  \n",
        "  model.add(Convolution2D(64, (3,3), activation='elu'))\n",
        "#   model.add(Dropout(0.5))\n",
        "  \n",
        "  \n",
        "  model.add(Flatten())\n",
        "  \n",
        "  model.add(Dense(100, activation = 'elu'))\n",
        "#   model.add(Dropout(0.5))\n",
        "  \n",
        "  model.add(Dense(50, activation = 'elu'))\n",
        "#   model.add(Dropout(0.5))\n",
        "  \n",
        "  model.add(Dense(10, activation = 'elu'))\n",
        "#   model.add(Dropout(0.5))\n",
        "\n",
        "  model.add(Dense(1))\n",
        "  \n",
        "  optimizer = Adam(lr=1e-3)\n",
        "  model.compile(loss='mse', optimizer=optimizer)\n",
        "  return model\n"
      ],
      "metadata": {
        "id": "-m_JCVlQpKcV"
      },
      "execution_count": 157,
      "outputs": []
    },
    {
      "cell_type": "code",
      "source": [
        "model = nvidia_model()\n",
        "print(model.summary())\n",
        "history = model.fit_generator(batch_generator(X_train, y_train, 100, 1),\n",
        "                                  steps_per_epoch=300, \n",
        "                                  epochs=10,\n",
        "                                  validation_data=batch_generator(X_valid, y_valid, 100, 0),\n",
        "                                  validation_steps=200,\n",
        "                                  verbose=1,\n",
        "                                  shuffle=1)"
      ],
      "metadata": {
        "colab": {
          "base_uri": "https://localhost:8080/"
        },
        "id": "UKnW1C9iamgb",
        "outputId": "32c27dc4-b698-4de9-85d8-6fa42c7a4f3b"
      },
      "execution_count": 158,
      "outputs": [
        {
          "output_type": "stream",
          "name": "stdout",
          "text": [
            "Model: \"sequential_21\"\n",
            "_________________________________________________________________\n",
            " Layer (type)                Output Shape              Param #   \n",
            "=================================================================\n",
            " conv2d_5 (Conv2D)           (None, 31, 98, 24)        1824      \n",
            "                                                                 \n",
            " conv2d_6 (Conv2D)           (None, 14, 47, 36)        21636     \n",
            "                                                                 \n",
            " conv2d_7 (Conv2D)           (None, 5, 22, 48)         43248     \n",
            "                                                                 \n",
            " conv2d_8 (Conv2D)           (None, 3, 20, 64)         27712     \n",
            "                                                                 \n",
            " conv2d_9 (Conv2D)           (None, 1, 18, 64)         36928     \n",
            "                                                                 \n",
            " flatten_1 (Flatten)         (None, 1152)              0         \n",
            "                                                                 \n",
            " dense_4 (Dense)             (None, 100)               115300    \n",
            "                                                                 \n",
            " dense_5 (Dense)             (None, 50)                5050      \n",
            "                                                                 \n",
            " dense_6 (Dense)             (None, 10)                510       \n",
            "                                                                 \n",
            " dense_7 (Dense)             (None, 1)                 11        \n",
            "                                                                 \n",
            "=================================================================\n",
            "Total params: 252,219\n",
            "Trainable params: 252,219\n",
            "Non-trainable params: 0\n",
            "_________________________________________________________________\n",
            "None\n"
          ]
        },
        {
          "output_type": "stream",
          "name": "stderr",
          "text": [
            "/usr/local/lib/python3.7/dist-packages/ipykernel_launcher.py:9: UserWarning: `Model.fit_generator` is deprecated and will be removed in a future version. Please use `Model.fit`, which supports generators.\n",
            "  if __name__ == '__main__':\n"
          ]
        },
        {
          "output_type": "stream",
          "name": "stdout",
          "text": [
            "Epoch 1/10\n",
            "300/300 [==============================] - 382s 1s/step - loss: 0.2033 - val_loss: 0.0848\n",
            "Epoch 2/10\n",
            "300/300 [==============================] - 377s 1s/step - loss: 0.0761 - val_loss: 0.0585\n",
            "Epoch 3/10\n",
            "300/300 [==============================] - 376s 1s/step - loss: 0.0659 - val_loss: 0.0487\n",
            "Epoch 4/10\n",
            "300/300 [==============================] - 375s 1s/step - loss: 0.0598 - val_loss: 0.0550\n",
            "Epoch 5/10\n",
            "300/300 [==============================] - 375s 1s/step - loss: 0.0521 - val_loss: 0.0373\n",
            "Epoch 6/10\n",
            "300/300 [==============================] - 379s 1s/step - loss: 0.0503 - val_loss: 0.0384\n",
            "Epoch 7/10\n",
            "300/300 [==============================] - 379s 1s/step - loss: 0.0482 - val_loss: 0.0357\n",
            "Epoch 8/10\n",
            "300/300 [==============================] - 377s 1s/step - loss: 0.0454 - val_loss: 0.0351\n",
            "Epoch 9/10\n",
            "300/300 [==============================] - 377s 1s/step - loss: 0.0432 - val_loss: 0.0339\n",
            "Epoch 10/10\n",
            "300/300 [==============================] - 377s 1s/step - loss: 0.0429 - val_loss: 0.0333\n"
          ]
        }
      ]
    },
    {
      "cell_type": "code",
      "source": [
        "plt.plot(history.history['loss'])\n",
        "plt.plot(history.history['val_loss'])\n",
        "plt.legend(['training', 'validation'])\n",
        "plt.title('Loss')\n",
        "plt.xlabel('Epoch')"
      ],
      "metadata": {
        "colab": {
          "base_uri": "https://localhost:8080/",
          "height": 312
        },
        "id": "cxNTsBYfcVJ4",
        "outputId": "7aeccbef-341b-43f5-ce8c-fa71146994f7"
      },
      "execution_count": 159,
      "outputs": [
        {
          "output_type": "execute_result",
          "data": {
            "text/plain": [
              "Text(0.5, 0, 'Epoch')"
            ]
          },
          "metadata": {},
          "execution_count": 159
        },
        {
          "output_type": "display_data",
          "data": {
            "text/plain": [
              "<Figure size 432x288 with 1 Axes>"
            ],
            "image/png": "[encoded data removed]"
          },
          "metadata": {
            "needs_background": "light"
          }
        }
      ]
    },
    {
      "cell_type": "code",
      "source": [
        "model.save('model.h5')"
      ],
      "metadata": {
        "id": "oAAKfE8YcWp9"
      },
      "execution_count": 160,
      "outputs": []
    },
    {
      "cell_type": "code",
      "source": [
        "from google.colab import files\n",
        "files.download('model.h5')"
      ],
      "metadata": {
        "colab": {
          "base_uri": "https://localhost:8080/",
          "height": 17
        },
        "id": "M12kEN4xceMJ",
        "outputId": "48ab69d1-5a70-468a-83f4-5bb0a3f24089"
      },
      "execution_count": 162,
      "outputs": [
        {
          "output_type": "display_data",
          "data": {
            "text/plain": [
              "<IPython.core.display.Javascript object>"
            ],
            "application/javascript": [
              "\n",
              "    async function download(id, filename, size) {\n",
              "      if (!google.colab.kernel.accessAllowed) {\n",
              "        return;\n",
              "      }\n",
              "      const div = document.createElement('div');\n",
              "      const label = document.createElement('label');\n",
              "      label.textContent = `Downloading \"${filename}\": `;\n",
              "      div.appendChild(label);\n",
              "      const progress = document.createElement('progress');\n",
              "      progress.max = size;\n",
              "      div.appendChild(progress);\n",
              "      document.body.appendChild(div);\n",
              "\n",
              "      const buffers = [];\n",
              "      let downloaded = 0;\n",
              "\n",
              "      const channel = await google.colab.kernel.comms.open(id);\n",
              "      // Send a message to notify the kernel that we're ready.\n",
              "      channel.send({})\n",
              "\n",
              "      for await (const message of channel.messages) {\n",
              "        // Send a message to notify the kernel that we're ready.\n",
              "        channel.send({})\n",
              "        if (message.buffers) {\n",
              "          for (const buffer of message.buffers) {\n",
              "            buffers.push(buffer);\n",
              "            downloaded += buffer.byteLength;\n",
              "            progress.value = downloaded;\n",
              "          }\n",
              "        }\n",
              "      }\n",
              "      const blob = new Blob(buffers, {type: 'application/binary'});\n",
              "      const a = document.createElement('a');\n",
              "      a.href = window.URL.createObjectURL(blob);\n",
              "      a.download = filename;\n",
              "      div.appendChild(a);\n",
              "      a.click();\n",
              "      div.remove();\n",
              "    }\n",
              "  "
            ]
          },
          "metadata": {}
        },
        {
          "output_type": "display_data",
          "data": {
            "text/plain": [
              "<IPython.core.display.Javascript object>"
            ],
            "application/javascript": [
              "download(\"download_3a95bbdb-4ea8-46e3-928d-54527250968d\", \"model.h5\", 3106448)"
            ]
          },
          "metadata": {}
        }
      ]
    }
  ]
}